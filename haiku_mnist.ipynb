{
 "cells": [
  {
   "cell_type": "code",
   "execution_count": null,
   "metadata": {},
   "outputs": [],
   "source": [
    "import os\n",
    "\n",
    "from functools import partial\n",
    "\n",
    "from absl import app\n",
    "from dotenv import load_dotenv\n",
    "import haiku as hk\n",
    "import jax\n",
    "import jax.numpy as jnp\n",
    "import neptune\n",
    "import numpy as np\n",
    "import optax\n",
    "from tqdm import tqdm\n",
    "from typing import Dict, NamedTuple, Tuple, Callable\n",
    "from learntrix.training.losses import cross_entropy_loss\n",
    "\n",
    "from learntrix.dataloaders.computer_vision.mnist import (\n",
    "    load_mnist_dataset\n",
    ")\n",
    "from learntrix.training.supervised_trainers.runners import (\n",
    "    run_train\n",
    ")\n",
    "from learntrix.training.supervised_trainers.classification_trainer import ClassificationTrainer\n",
    "from learntrix.types import Batch, TrainingState, Metrics\n",
    "\n",
    "# Set default device to CPU for JAX\n",
    "jax.config.update(\"jax_platform_name\", \"cpu\")\n"
   ]
  },
  {
   "cell_type": "code",
   "execution_count": null,
   "metadata": {},
   "outputs": [],
   "source": [
    "# Get devices if any\n",
    "devices = jax.devices(\"cpu\")\n",
    "num_devices = len(devices)\n",
    "print(f\"Detected the following devices: {tuple(devices)}\")"
   ]
  },
  {
   "cell_type": "code",
   "execution_count": null,
   "metadata": {},
   "outputs": [],
   "source": [
    "def load_env_variable(path, name):\n",
    "    load_dotenv(path)\n",
    "    variable = os.getenv(name)\n",
    "    return variable\n",
    "\n",
    "def run_neptune(path, project):\n",
    "    \"\"\"\n",
    "    path: path of env file with Neptune token\n",
    "    neptune_project: name of the neptune project\n",
    "    \"\"\"\n",
    "    api_token = load_env_variable(path=path, name='NEPTUNE_API_TOKEN')\n",
    "\n",
    "    run = neptune.init_run(\n",
    "        project=project,\n",
    "        api_token=api_token,\n",
    "    )\n",
    "\n",
    "    return run\n",
    "\n",
    "run = run_neptune(path='./.env', project=\"yanisadel/learn-jax\")\n",
    "\n",
    "params = {\"learning_rate\": 0.001, \"optimizer\": \"Adam\"}\n",
    "run[\"parameters\"] = params"
   ]
  },
  {
   "cell_type": "code",
   "execution_count": null,
   "metadata": {},
   "outputs": [],
   "source": [
    "data_train = load_mnist_dataset(\n",
    "    \"train\",\n",
    "    shuffle=True, \n",
    "    batch_size=64\n",
    "    )\n",
    "data_test = load_mnist_dataset(\n",
    "    \"test\",\n",
    "    shuffle=False, \n",
    "    batch_size=10000\n",
    "    )"
   ]
  },
  {
   "cell_type": "code",
   "execution_count": null,
   "metadata": {},
   "outputs": [],
   "source": [
    "def forward_fn(x: jax.Array) -> jax.Array:\n",
    "    x = x.astype(jnp.float32) / 255.\n",
    "    mlp = hk.Sequential([\n",
    "        hk.Flatten(),\n",
    "        hk.Linear(300), jax.nn.relu,\n",
    "        hk.Linear(100), jax.nn.relu,\n",
    "        hk.Linear(10),\n",
    "    ])\n",
    "    return mlp(x)"
   ]
  },
  {
   "cell_type": "code",
   "execution_count": null,
   "metadata": {},
   "outputs": [],
   "source": [
    "trainer = ClassificationTrainer(\n",
    "    forward_fn=forward_fn,\n",
    "    loss_fn=cross_entropy_loss,\n",
    "    optimizer=optax.adam(learning_rate=1e-3),\n",
    "    num_classes=10\n",
    "    )"
   ]
  },
  {
   "cell_type": "code",
   "execution_count": null,
   "metadata": {},
   "outputs": [],
   "source": [
    "training_state = trainer.init(\n",
    "    jax.random.PRNGKey(0), \n",
    "    x=jnp.ones(shape=(32, 28, 28, 1))\n",
    "    )\n",
    "training_state = jax.device_put_replicated(training_state, devices)"
   ]
  },
  {
   "cell_type": "code",
   "execution_count": null,
   "metadata": {},
   "outputs": [],
   "source": [
    "state, metrics = run_train(\n",
    "    update_fn=trainer.update,\n",
    "    evaluate_fn=trainer.evaluate,\n",
    "    state=training_state,\n",
    "    devices=devices,\n",
    "    dataset_train=data_train,\n",
    "    dataset_test=data_test,\n",
    "    num_steps=100,\n",
    "    validation_step=10,\n",
    "    run_neptune=run)"
   ]
  },
  {
   "cell_type": "code",
   "execution_count": null,
   "metadata": {},
   "outputs": [],
   "source": [
    "run.stop()"
   ]
  }
 ],
 "metadata": {
  "kernelspec": {
   "display_name": "Python 3",
   "language": "python",
   "name": "python3"
  },
  "language_info": {
   "codemirror_mode": {
    "name": "ipython",
    "version": 3
   },
   "file_extension": ".py",
   "mimetype": "text/x-python",
   "name": "python",
   "nbconvert_exporter": "python",
   "pygments_lexer": "ipython3",
   "version": "3.9.6"
  }
 },
 "nbformat": 4,
 "nbformat_minor": 2
}
